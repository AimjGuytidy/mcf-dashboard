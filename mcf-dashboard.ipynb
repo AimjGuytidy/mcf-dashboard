{
 "cells": [
  {
   "cell_type": "code",
   "execution_count": 2,
   "id": "chronic-harvest",
   "metadata": {},
   "outputs": [],
   "source": [
    "from jupyter_dash import JupyterDash\n",
    "from dash import html, dcc\n",
    "import dash_bootstrap_components as dbc\n",
    "from dash.dependencies import Input, Output\n",
    "import os\n",
    "import pandas as pd"
   ]
  },
  {
   "cell_type": "code",
   "execution_count": 4,
   "id": "catholic-verse",
   "metadata": {},
   "outputs": [],
   "source": [
    "app = JupyterDash(__name__)\n",
    "app.layout = html.Div([\n",
    "    html.H1(\"Hello World!\"),\n",
    "    dcc.Dropdown(options=[{\"label\":color,\"value\":color} for\n",
    "                         color in [\"blue\",\"green\",\"red\"]],\n",
    "                id = \"color_dropdown\"),\n",
    "    html.Br(),\n",
    "    html.Div(id = \"color_output\")\n",
    "                \n",
    "    ])\n",
    "\n",
    "@app.callback(Output(component_id=\"color_output\",\n",
    "                   component_property=\"children\"),\n",
    "             Input(component_id=\"color_dropdown\",\n",
    "                   component_property=\"value\")\n",
    "             )\n",
    "def display_selected_color(color):\n",
    "    if color is None:\n",
    "        color = \"Nothing\"\n",
    "    return \"You have selected \" + color"
   ]
  },
  {
   "cell_type": "code",
   "execution_count": 5,
   "id": "final-chess",
   "metadata": {},
   "outputs": [
    {
     "data": {
      "text/html": [
       "\n",
       "        <iframe\n",
       "            width=\"60%\"\n",
       "            height=\"110%\"\n",
       "            src=\"http://127.0.0.1:3324/\"\n",
       "            frameborder=\"0\"\n",
       "            allowfullscreen\n",
       "            \n",
       "        ></iframe>\n",
       "        "
      ],
      "text/plain": [
       "<IPython.lib.display.IFrame at 0x257da80f7f0>"
      ]
     },
     "metadata": {},
     "output_type": "display_data"
    }
   ],
   "source": [
    "if __name__ == \"__main__\":\n",
    "    app.run_server(mode=\"inline\", height = \"110%\", width= \"60%\",port=3324)"
   ]
  },
  {
   "cell_type": "markdown",
   "id": "flush-category",
   "metadata": {},
   "source": [
    "here is a list of what we are going to do:\n",
    "<ol>\n",
    "    <li>Create a drop down list using the districts covered in the survey</li>\n",
    "    <li>Create a callback function that takes the selected district, filters the dataset, and finds the youth population of that district.</li>\n",
    "    <li>Return a small report about the found data.</li>\n",
    "</ol>"
   ]
  },
  {
   "cell_type": "code",
   "execution_count": 3,
   "id": "quick-grade",
   "metadata": {},
   "outputs": [
    {
     "data": {
      "text/plain": [
       "['Listing clean datasets', 'Main clean dataset']"
      ]
     },
     "execution_count": 3,
     "metadata": {},
     "output_type": "execute_result"
    }
   ],
   "source": [
    "os.listdir(\"data\")"
   ]
  },
  {
   "cell_type": "code",
   "execution_count": 8,
   "id": "south-spectacular",
   "metadata": {},
   "outputs": [
    {
     "name": "stdout",
     "output_type": "stream",
     "text": [
      "<class 'pandas.core.frame.DataFrame'>\n",
      "Int64Index: 4061 entries, 0 to 4060\n",
      "Columns: 926 entries, uniqueid to geo_entity\n",
      "dtypes: datetime64[ns](3), float32(8), float64(1), int16(3), int8(135), object(776)\n",
      "memory usage: 24.9+ MB\n"
     ]
    }
   ],
   "source": [
    "pd.read_stata(\"data/MCF_data.dta\", convert_categoricals=False, convert_missing=True).info()"
   ]
  },
  {
   "cell_type": "code",
   "execution_count": 9,
   "id": "d1e05c2f",
   "metadata": {},
   "outputs": [],
   "source": [
    "temp_df = pd.read_stata(\"data/MCF_data.dta\", convert_categoricals=False, convert_missing=True)"
   ]
  },
  {
   "cell_type": "code",
   "execution_count": 10,
   "id": "1c0753a8",
   "metadata": {},
   "outputs": [
    {
     "data": {
      "text/plain": [
       "Index(['uniqueid', 'deviceid', 'subscriberid', 'simid', 'devicephonenum',\n",
       "       'username', 'text_audit', 'duration', 'time_check_sec_0', 'enum_text',\n",
       "       ...\n",
       "       'submissiondate', 'starttime', 'endtime', 'geo_entity_c',\n",
       "       'employed_cal', 'self_employe', 'unemployed_c',\n",
       "       'maingrp1consent_grp1student_calc', 'dup', 'geo_entity'],\n",
       "      dtype='object', length=926)"
      ]
     },
     "execution_count": 10,
     "metadata": {},
     "output_type": "execute_result"
    }
   ],
   "source": [
    "temp_df.columns"
   ]
  },
  {
   "cell_type": "code",
   "execution_count": 12,
   "id": "fce36a11",
   "metadata": {},
   "outputs": [
    {
     "data": {
      "text/plain": [
       "array(['Muhanga', 'Nyarugenge', 'Nyagatare', 'Nyanza', 'Ruhango',\n",
       "       'Nyaruguru', 'Gisagara', 'Gatsibo', 'Kayonza', 'Ngoma', 'Huye',\n",
       "       'Kirehe', 'Nyamagabe', 'Rwamagana', 'Rusizi', 'Musanze', 'Nyabihu',\n",
       "       'Burera', 'Nyamasheke', 'Karongi', 'Ngororero', 'Gakenke',\n",
       "       'Rulindo', 'Rutsiro', 'Kamonyi', 'Rubavu', 'Bugesera', 'Gicumbi',\n",
       "       'Gasabo', 'Kicukiro'], dtype=object)"
      ]
     },
     "execution_count": 12,
     "metadata": {},
     "output_type": "execute_result"
    }
   ],
   "source": [
    "temp_df[\"district_calc\"].unique()"
   ]
  },
  {
   "cell_type": "code",
   "execution_count": null,
   "id": "df1a997e",
   "metadata": {},
   "outputs": [],
   "source": []
  }
 ],
 "metadata": {
  "kernelspec": {
   "display_name": "Python 3 (ipykernel)",
   "language": "python",
   "name": "python3"
  },
  "language_info": {
   "codemirror_mode": {
    "name": "ipython",
    "version": 3
   },
   "file_extension": ".py",
   "mimetype": "text/x-python",
   "name": "python",
   "nbconvert_exporter": "python",
   "pygments_lexer": "ipython3",
   "version": "3.10.8"
  }
 },
 "nbformat": 4,
 "nbformat_minor": 5
}
