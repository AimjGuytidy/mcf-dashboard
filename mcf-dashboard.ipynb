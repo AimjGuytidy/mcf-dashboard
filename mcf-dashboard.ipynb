{
 "cells": [
  {
   "cell_type": "code",
   "execution_count": 11,
   "id": "chronic-harvest",
   "metadata": {},
   "outputs": [],
   "source": [
    "from jupyter_dash import JupyterDash\n",
    "import dash_html_components as html\n",
    "import dash_core_components as dcc\n",
    "import dash_bootstrap_components as dbc\n",
    "from dash.dependencies import Input, Output"
   ]
  },
  {
   "cell_type": "code",
   "execution_count": 21,
   "id": "catholic-verse",
   "metadata": {},
   "outputs": [],
   "source": [
    "app = JupyterDash(__name__)\n",
    "app.layout = html.Div([\n",
    "    html.H1(\"Hello World!\"),\n",
    "    dcc.Dropdown(options=[{\"label\":color,\"value\":color} for\n",
    "                         color in [\"blue\",\"green\",\"red\"]],\n",
    "                id = \"color_dropdown\"),\n",
    "    html.Br(),\n",
    "    html.Div(id = \"color_output\")\n",
    "                \n",
    "    ])\n",
    "\n",
    "@app.callback(Output(component_id=\"color_output\",\n",
    "                   component_property=\"children\"),\n",
    "             Input(component_id=\"color_dropdown\",\n",
    "                   component_property=\"value\")\n",
    "             )\n",
    "def display_selected_color(color):\n",
    "    if color is None:\n",
    "        color = \"Nothing\"\n",
    "    return \"You have selected \" + color"
   ]
  },
  {
   "cell_type": "code",
   "execution_count": 22,
   "id": "pending-haiti",
   "metadata": {},
   "outputs": [
    {
     "data": {
      "text/html": [
       "\n",
       "        <iframe\n",
       "            width=\"80%\"\n",
       "            height=\"600\"\n",
       "            src=\"http://127.0.0.1:3324/\"\n",
       "            frameborder=\"0\"\n",
       "            allowfullscreen\n",
       "        ></iframe>\n",
       "        "
      ],
      "text/plain": [
       "<IPython.lib.display.IFrame at 0x2130422e760>"
      ]
     },
     "metadata": {},
     "output_type": "display_data"
    }
   ],
   "source": [
    "if __name__ == \"__main__\":\n",
    "    app.run_server(mode=\"inline\", height = 600, width= \"80%\",port=3324)"
   ]
  },
  {
   "cell_type": "code",
   "execution_count": null,
   "id": "first-objective",
   "metadata": {},
   "outputs": [],
   "source": []
  }
 ],
 "metadata": {
  "kernelspec": {
   "display_name": "Python 3",
   "language": "python",
   "name": "python3"
  },
  "language_info": {
   "codemirror_mode": {
    "name": "ipython",
    "version": 3
   },
   "file_extension": ".py",
   "mimetype": "text/x-python",
   "name": "python",
   "nbconvert_exporter": "python",
   "pygments_lexer": "ipython3",
   "version": "3.9.13"
  }
 },
 "nbformat": 4,
 "nbformat_minor": 5
}
